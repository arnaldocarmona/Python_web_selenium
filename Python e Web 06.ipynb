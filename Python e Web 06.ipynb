{
 "cells": [
  {
   "cell_type": "markdown",
   "metadata": {},
   "source": [
    "# Desafio - Rotina de Baixar uma Planilha da Web\n",
    "\n",
    "- Imagine que você trabalhe no Mercado Financeiro e tem que todo dia/semana baixar uma planilha com as cotações do dólar\n",
    "- Usaremos o site investing.com para baixar esses dados\n",
    "- O link onde ficam esses dados é: https://br.investing.com/currencies/usd-brl-historical-data\n",
    "- Escolhemos o site investing.com porque ele é cheio de coisinha chata que vai obrigar a gente a fazer um código completo\n",
    "- Crie uma conta no site antes de começar, é gratuito"
   ]
  },
  {
   "cell_type": "code",
   "execution_count": 5,
   "metadata": {},
   "outputs": [
    {
     "ename": "ModuleNotFoundError",
     "evalue": "No module named 'undetected_chromedriver'",
     "output_type": "error",
     "traceback": [
      "\u001b[1;31m---------------------------------------------------------------------------\u001b[0m",
      "\u001b[1;31mModuleNotFoundError\u001b[0m                       Traceback (most recent call last)",
      "\u001b[1;32m<ipython-input-5-9ec4de7e4c11>\u001b[0m in \u001b[0;36m<module>\u001b[1;34m\u001b[0m\n\u001b[0;32m      5\u001b[0m \u001b[1;32mfrom\u001b[0m \u001b[0mselenium\u001b[0m\u001b[1;33m.\u001b[0m\u001b[0mwebdriver\u001b[0m\u001b[1;33m.\u001b[0m\u001b[0msupport\u001b[0m\u001b[1;33m.\u001b[0m\u001b[0mui\u001b[0m \u001b[1;32mimport\u001b[0m \u001b[0mWebDriverWait\u001b[0m\u001b[1;33m\u001b[0m\u001b[1;33m\u001b[0m\u001b[0m\n\u001b[0;32m      6\u001b[0m \u001b[1;32mfrom\u001b[0m \u001b[0mselenium\u001b[0m\u001b[1;33m.\u001b[0m\u001b[0mwebdriver\u001b[0m\u001b[1;33m.\u001b[0m\u001b[0msupport\u001b[0m \u001b[1;32mimport\u001b[0m \u001b[0mexpected_conditions\u001b[0m \u001b[1;32mas\u001b[0m \u001b[0mEC\u001b[0m\u001b[1;33m\u001b[0m\u001b[1;33m\u001b[0m\u001b[0m\n\u001b[1;32m----> 7\u001b[1;33m \u001b[1;32mimport\u001b[0m \u001b[0mundetected_chromedriver\u001b[0m\u001b[1;33m.\u001b[0m\u001b[0mv2\u001b[0m \u001b[1;32mas\u001b[0m \u001b[0muc\u001b[0m\u001b[1;33m\u001b[0m\u001b[1;33m\u001b[0m\u001b[0m\n\u001b[0m\u001b[0;32m      8\u001b[0m \u001b[1;32mimport\u001b[0m \u001b[0mrandom\u001b[0m\u001b[1;33m,\u001b[0m\u001b[0mtime\u001b[0m\u001b[1;33m,\u001b[0m\u001b[0mos\u001b[0m\u001b[1;33m,\u001b[0m\u001b[0msys\u001b[0m\u001b[1;33m\u001b[0m\u001b[1;33m\u001b[0m\u001b[0m\n\u001b[0;32m      9\u001b[0m \u001b[1;33m\u001b[0m\u001b[0m\n",
      "\u001b[1;31mModuleNotFoundError\u001b[0m: No module named 'undetected_chromedriver'"
     ]
    }
   ],
   "source": [
    "from selenium import webdriver\n",
    "import time\n",
    "from selenium.webdriver.common.keys import Keys\n",
    "from selenium.webdriver.common.by import By\n",
    "from selenium.webdriver.support.ui import WebDriverWait\n",
    "from selenium.webdriver.support import expected_conditions as EC\n",
    "import undetected_chromedriver.v2 as uc\n",
    "import random,time,os,sys\n",
    "\n",
    "driver = webdriver.Chrome()\n",
    "driver.get('https://br.investing.com/currencies/usd-brl-historical-data')\n",
    "time.sleep(1)\n",
    "driver = uc.Chrome(enable_console_log=True)\n",
    "driver.find_element(By.ID,\"onetrust-accept-btn-handler\").click() # tela accept\n",
    "elemento = WebDriverWait(driver, 60).until(EC.visibility_of_element_located((By.CLASS_NAME,\"largeBannerCloser\")))\n",
    "elemento.click()\n",
    "driver.find_element(By.CLASS_NAME,'js-download-data').click()\n",
    "driver.find_element_by_id(\"loginFormUser_email\").send_keys('arnaldo_carmona@hotmail.com')\n",
    "driver.find_element_by_id(\"loginForm_password\").send_keys('Aguiaz33')\n",
    "driver.find_element(By.XPATH,'//*[@id=\"signup\"]/a').click()\n",
    "time.sleep(3)\n",
    "driver.find_element(By.CLASS_NAME,'js-download-data').click()"
   ]
  },
  {
   "cell_type": "code",
   "execution_count": 4,
   "metadata": {},
   "outputs": [
    {
     "ename": "ModuleNotFoundError",
     "evalue": "No module named 'undetected_chromedriver'",
     "output_type": "error",
     "traceback": [
      "\u001b[1;31m---------------------------------------------------------------------------\u001b[0m",
      "\u001b[1;31mModuleNotFoundError\u001b[0m                       Traceback (most recent call last)",
      "\u001b[1;32m<ipython-input-4-f6a44cc49046>\u001b[0m in \u001b[0;36m<module>\u001b[1;34m\u001b[0m\n\u001b[1;32m----> 1\u001b[1;33m \u001b[1;32mimport\u001b[0m \u001b[0mundetected_chromedriver\u001b[0m\u001b[1;33m.\u001b[0m\u001b[0mv2\u001b[0m \u001b[1;32mas\u001b[0m \u001b[0muc\u001b[0m\u001b[1;33m\u001b[0m\u001b[1;33m\u001b[0m\u001b[0m\n\u001b[0m",
      "\u001b[1;31mModuleNotFoundError\u001b[0m: No module named 'undetected_chromedriver'"
     ]
    }
   ],
   "source": [
    "import undetected_chromedriver.v2 as uc"
   ]
  }
 ],
 "metadata": {
  "kernelspec": {
   "display_name": "Python 3",
   "language": "python",
   "name": "python3"
  },
  "language_info": {
   "codemirror_mode": {
    "name": "ipython",
    "version": 3
   },
   "file_extension": ".py",
   "mimetype": "text/x-python",
   "name": "python",
   "nbconvert_exporter": "python",
   "pygments_lexer": "ipython3",
   "version": "3.8.5"
  }
 },
 "nbformat": 4,
 "nbformat_minor": 4
}
